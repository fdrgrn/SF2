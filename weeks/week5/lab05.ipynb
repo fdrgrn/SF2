{
 "cells": [
  {
   "cell_type": "code",
   "execution_count": 16,
   "metadata": {},
   "outputs": [
    {
     "ename": "UnboundLocalError",
     "evalue": "local variable 'i' referenced before assignment",
     "output_type": "error",
     "traceback": [
      "\u001b[0;31m---------------------------------------------------------------------------\u001b[0m",
      "\u001b[0;31mUnboundLocalError\u001b[0m                         Traceback (most recent call last)",
      "Cell \u001b[0;32mIn[16], line 48\u001b[0m\n\u001b[1;32m     45\u001b[0m test_list \u001b[38;5;241m=\u001b[39m[\u001b[38;5;241m1\u001b[39m,\u001b[38;5;241m2\u001b[39m,\u001b[38;5;241m3\u001b[39m,\u001b[38;5;241m7\u001b[39m,\u001b[38;5;241m6\u001b[39m,\u001b[38;5;241m8\u001b[39m,\u001b[38;5;241m0\u001b[39m,\u001b[38;5;241m1\u001b[39m]\n\u001b[1;32m     47\u001b[0m \u001b[38;5;66;03m#result = [[int(i) for i in len(row)] for row in lst_2d]\u001b[39;00m\n\u001b[0;32m---> 48\u001b[0m \u001b[38;5;28mprint\u001b[39m(\u001b[43mmySort\u001b[49m\u001b[43m(\u001b[49m\u001b[43mtest_list\u001b[49m\u001b[43m,\u001b[49m\u001b[43m \u001b[49m\u001b[38;5;28;43;01mTrue\u001b[39;49;00m\u001b[43m)\u001b[49m)\n",
      "Cell \u001b[0;32mIn[16], line 34\u001b[0m, in \u001b[0;36mmySort\u001b[0;34m(lst, mode)\u001b[0m\n\u001b[1;32m     32\u001b[0m \u001b[38;5;28;01mif\u001b[39;00m \u001b[38;5;129;01mnot\u001b[39;00m lst:\n\u001b[1;32m     33\u001b[0m     \u001b[38;5;28;01mreturn\u001b[39;00m lst\n\u001b[0;32m---> 34\u001b[0m sorted_lst \u001b[38;5;241m=\u001b[39m [lst[\u001b[43mi\u001b[49m]]\n\u001b[1;32m     35\u001b[0m \u001b[38;5;28;01mfor\u001b[39;00m i \u001b[38;5;129;01min\u001b[39;00m \u001b[38;5;28mrange\u001b[39m(\u001b[38;5;241m1\u001b[39m, \u001b[38;5;28mlen\u001b[39m(lst)):\n\u001b[1;32m     36\u001b[0m     \u001b[38;5;28;01mfor\u001b[39;00m j \u001b[38;5;129;01min\u001b[39;00m \u001b[38;5;28mrange\u001b[39m(\u001b[38;5;28mlen\u001b[39m(sorted_lst)):\n",
      "\u001b[0;31mUnboundLocalError\u001b[0m: local variable 'i' referenced before assignment"
     ]
    }
   ],
   "source": [
    "lst = [[1,2], [], [3,4], [], 5]\n",
    "result = []\n",
    "for element in lst:\n",
    "    if element:\n",
    "        result.append(result)\n",
    "#print(result)\n",
    "\n",
    "#result2 = [inner_list for inner_list in lst if inner_list]\n",
    "#print(result2)\n",
    "\n",
    "for element in lst:\n",
    "    if not element:\n",
    "        lst.remove(element)\n",
    "#print(lst)\n",
    "\n",
    "#1.\n",
    "lst = [1,2,3,4,5,6,7,8,9,10,11,25,324,2]\n",
    "#result = [element **2 for element in lst if 3 < element < 11]\n",
    "\n",
    "#2.\n",
    "num = [1,2,3,4,5,6,7,8,9,10,14]\n",
    "[x+ 5 for x in num if x in lst]\n",
    "\n",
    "#3.\n",
    "lst_2d = [['4','8'],['4','2','23'],['3','33','21'],['14']]\n",
    "#result = [[int(i) for i in row] for row in lst_2d]\n",
    "#result\n",
    "\n",
    "#4.\n",
    "def mySort(lst, mode):\n",
    "    #mode = bool False inverse True straight\n",
    "    if not lst:\n",
    "        return lst\n",
    "    sorted_lst = [lst[i]]\n",
    "    for i in range(1, len(lst)):\n",
    "        for j in range(len(sorted_lst)):\n",
    "            if lst[i] <= sorted_lst[j]:\n",
    "                sorted_lst = sorted_lst[:j] + lst[i] + sorted_lst[j:]\n",
    "            elif j == len(sorted_lst) - 1:\n",
    "                sorted_lst.append(lst[i])\n",
    "    if not mode:\n",
    "        sorted_lst[::-1]\n",
    "    return sorted_lst\n",
    "\n",
    "test_list =[1,2,3,7,6,8,0,1]\n",
    "\n",
    "#result = [[int(i) for i in len(row)] for row in lst_2d]\n",
    "print(mySort(test_list, True))\n",
    "\n",
    "\n",
    "\n",
    "\n"
   ]
  }
 ],
 "metadata": {
  "kernelspec": {
   "display_name": "Python 3",
   "language": "python",
   "name": "python3"
  },
  "language_info": {
   "codemirror_mode": {
    "name": "ipython",
    "version": 3
   },
   "file_extension": ".py",
   "mimetype": "text/x-python",
   "name": "python",
   "nbconvert_exporter": "python",
   "pygments_lexer": "ipython3",
   "version": "3.9.6"
  }
 },
 "nbformat": 4,
 "nbformat_minor": 2
}
