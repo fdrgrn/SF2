{
 "cells": [
  {
   "cell_type": "markdown",
   "metadata": {},
   "source": [
    "## Exercise - Climate change\n",
    "\n",
    "This exercise was inspired by [Callysto](https://callysto.ca/learning-modules/).\n",
    "\n",
    "We have data from the NASA [Global Climate Change - Vital Signs of the Planet](https://climate.nasa.gov) website. In addition to information about climate change, this website also features those that are working to help make the world better.  \n",
    "\n",
    "### Sea Ice\n",
    "\n",
    "Sea ice is frozen sea water that exists around the poles of the Earth because of extremely cold temperatures. Sea ice is frozen for most of the year.\n",
    "\n",
    "Read the csv file `icesheets.csv`, then answer the following questions:"
   ]
  },
  {
   "cell_type": "code",
   "execution_count": 1,
   "metadata": {},
   "outputs": [],
   "source": [
    "# import the needed libraries\n",
    "# your code here to read the file\n",
    "import pandas as py\n",
    "import numpy as np"
   ]
  },
  {
   "cell_type": "markdown",
   "metadata": {},
   "source": [
    "1. How many rows and columns are there in the file?"
   ]
  },
  {
   "cell_type": "code",
   "execution_count": null,
   "metadata": {},
   "outputs": [],
   "source": [
    "# your code to get info about the file here\n"
   ]
  },
  {
   "cell_type": "markdown",
   "metadata": {},
   "source": [
    "2. draw a line graph about the ice sheets that has the Antarctic mass (Gigatonnes) on the y-axis, against time on the x-axis. Remember to use the name of the column to indicate the data for each axis."
   ]
  },
  {
   "cell_type": "code",
   "execution_count": 3,
   "metadata": {},
   "outputs": [],
   "source": [
    "#your plotting code here using pandas\n",
    "#plot the same graph using matplotlib\n"
   ]
  },
  {
   "cell_type": "markdown",
   "metadata": {},
   "source": [
    "3. draw a scatter plot about the ice sheets that has the Antarctic mass (Gigatonnes) on the y-axis, against time on the x-axis, where each point is of size 5 and of colour red. Remember to use the name of the column to indicate the data for each axis. "
   ]
  },
  {
   "cell_type": "code",
   "execution_count": 4,
   "metadata": {},
   "outputs": [],
   "source": [
    "# Organize the scatter plot in red\n"
   ]
  },
  {
   "cell_type": "markdown",
   "metadata": {},
   "source": [
    "We can see that over time there is a decreasing trend in the mass of ice sheets in the Antarctic. This shows that ice is melting in Antarctica."
   ]
  }
 ],
 "metadata": {
  "kernelspec": {
   "display_name": "Python 3",
   "language": "python",
   "name": "python3"
  },
  "language_info": {
   "codemirror_mode": {
    "name": "ipython",
    "version": 3
   },
   "file_extension": ".py",
   "mimetype": "text/x-python",
   "name": "python",
   "nbconvert_exporter": "python",
   "pygments_lexer": "ipython3",
   "version": "3.9.6"
  }
 },
 "nbformat": 4,
 "nbformat_minor": 2
}
